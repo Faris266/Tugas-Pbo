{
  "nbformat": 4,
  "nbformat_minor": 0,
  "metadata": {
    "colab": {
      "provenance": [],
      "authorship_tag": "ABX9TyO2kEfIqbWIlKumvanh9xmG",
      "include_colab_link": true
    },
    "kernelspec": {
      "name": "python3",
      "display_name": "Python 3"
    },
    "language_info": {
      "name": "python"
    }
  },
  "cells": [
    {
      "cell_type": "markdown",
      "metadata": {
        "id": "view-in-github",
        "colab_type": "text"
      },
      "source": [
        "<a href=\"https://colab.research.google.com/github/Faris266/Tugas-Pbo/blob/main/sesi_6.ipynb\" target=\"_parent\"><img src=\"https://colab.research.google.com/assets/colab-badge.svg\" alt=\"Open In Colab\"/></a>"
      ]
    },
    {
      "cell_type": "code",
      "execution_count": 1,
      "metadata": {
        "colab": {
          "base_uri": "https://localhost:8080/"
        },
        "id": "bu_5o-ua7odI",
        "outputId": "7dffc485-3002-4336-ab05-65b6accffd0e"
      },
      "outputs": [
        {
          "output_type": "stream",
          "name": "stdout",
          "text": [
            "stup1[1]:  bahasa aceh\n",
            "stup2[1:5]:  (2, 3, 4, 5)\n"
          ]
        }
      ],
      "source": [
        "# Deklarasi variabel stup1, stup2 dan stup3\n",
        "stup1 = ('bahasa arab', 'bahasa aceh', 2019, 2020)\n",
        "stup2 = (1, 2, 3, 4, 5, 6, 7, 8)\n",
        "stup3 = \"e\", \"f\", \"g\", \"h\"\n",
        "\n",
        "# Mengakses nilai pada variabel ketiga tupel diatas\n",
        "print (\"stup1[1]: \", stup1[1])\n",
        "print (\"stup2[1:5]: \", stup2[1:5])"
      ]
    },
    {
      "cell_type": "code",
      "source": [
        "# Deklarasi Variabel ach\n",
        "ach = (\"Mie Aceh\", 10000, 3.5, True, 'AyamPramugari', 88j)\n",
        "\n",
        "# Mengakses nilai tuple\n",
        "# Data pertama indeks 0\n",
        "print(\"ach[0]:\", ach[0])\n",
        "# Data kedua indeks 1\n",
        "print(\"ach[1]:\", ach[1])\n",
        "# Data ketiga indeks 2\n",
        "print(\"ach[2]:\", ach[2])\n",
        "# Data antara indeks 2 dan 5\n",
        "print(\"ach[2:5]:\", ach[2:5])\n",
        "# Data dari indeks satu sampai indeks 3\n",
        "print(\"ach[:3]:\", ach[:3])\n",
        "# Data dari indeks 3 sampai dengan indeks seterusnya\n",
        "print(\"ach[3:]:\", ach[3:])\n",
        "# Data keseluruhan\n",
        "print(\"ach[:]:\", ach[:])"
      ],
      "metadata": {
        "colab": {
          "base_uri": "https://localhost:8080/"
        },
        "id": "3xtal7gn7uvC",
        "outputId": "3aa630d7-6b2f-4e68-c68b-583e1562facb"
      },
      "execution_count": 2,
      "outputs": [
        {
          "output_type": "stream",
          "name": "stdout",
          "text": [
            "ach[0]: Mie Aceh\n",
            "ach[1]: 10000\n",
            "ach[2]: 3.5\n",
            "ach[2:5]: (3.5, True, 'AyamPramugari')\n",
            "ach[:3]: ('Mie Aceh', 10000, 3.5)\n",
            "ach[3:]: (True, 'AyamPramugari', 88j)\n",
            "ach[:]: ('Mie Aceh', 10000, 3.5, True, 'AyamPramugari', 88j)\n"
          ]
        }
      ]
    },
    {
      "cell_type": "code",
      "source": [
        "# Contoh menambah variabel baru pada daftar tuple\n",
        "stup1 = (10, 5.78)\n",
        "stup2 = ('def', 'opq')\n",
        "\n",
        "# Jika ditambah baris berikut:\n",
        "# stup1[0] = 100;\n",
        "# tidak bisa dilakukan pada tuple python\n",
        "\n",
        "# Jadi, buatlah variabel tuple baru sebagai berikut\n",
        "stup3 = stup1 + stup2\n",
        "print (stup3)\n",
        "\n",
        "del stup3\n",
        "print(\"setelah dihapus:\")"
      ],
      "metadata": {
        "colab": {
          "base_uri": "https://localhost:8080/"
        },
        "id": "lpaC5jCS7yxu",
        "outputId": "6382bb48-c25a-493e-87de-e51cf530345b"
      },
      "execution_count": 7,
      "outputs": [
        {
          "output_type": "stream",
          "name": "stdout",
          "text": [
            "(10, 5.78, 'def', 'opq')\n",
            "setelah dihapus:\n"
          ]
        }
      ]
    }
  ]
}